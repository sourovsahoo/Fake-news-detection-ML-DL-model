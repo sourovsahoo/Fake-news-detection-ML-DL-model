{
 "cells": [
  {
   "cell_type": "markdown",
   "metadata": {},
   "source": [
    "# Embedding technique used to convert text to vectors(numerical)suitable i/p for both ML and DL model building"
   ]
  },
  {
   "cell_type": "markdown",
   "metadata": {},
   "source": [
    "# Bidirectional LSTM is used for model building."
   ]
  },
  {
   "cell_type": "markdown",
   "metadata": {},
   "source": [
    "# As sentence length is high here we need Attention,transformers,BERT etc for a better model performance.Currently R&D going on.Still Bidirectional LSTM gives 91.85% accurecy which can be improved later with better models."
   ]
  },
  {
   "cell_type": "markdown",
   "metadata": {},
   "source": [
    "# 1.Importing required libraries"
   ]
  },
  {
   "cell_type": "code",
   "execution_count": 1,
   "metadata": {},
   "outputs": [],
   "source": [
    "import numpy as np\n",
    "import pandas as pd\n",
    "import matplotlib.pyplot as plt\n",
    "import warnings\n",
    "warnings.filterwarnings('ignore')\n",
    "import seaborn as sns\n",
    "\n",
    "from sklearn.preprocessing import PowerTransformer\n",
    "from sklearn.preprocessing import MinMaxScaler,StandardScaler\n",
    "from sklearn.model_selection import train_test_split,cross_val_score\n",
    "\n",
    "\n",
    "from sklearn.model_selection import GridSearchCV\n",
    "from sklearn.metrics import classification_report,confusion_matrix,accuracy_score\n",
    "\n",
    "\n",
    "import joblib"
   ]
  },
  {
   "cell_type": "code",
   "execution_count": 2,
   "metadata": {},
   "outputs": [],
   "source": [
    "import tensorflow as tf\n",
    "from tensorflow.keras.layers import Embedding\n",
    "from tensorflow.keras.preprocessing.sequence import pad_sequences\n",
    "from tensorflow.keras.models import Sequential\n",
    "from tensorflow.keras.preprocessing.text import one_hot\n",
    "from tensorflow.keras.layers import LSTM\n",
    "from tensorflow.keras.layers import Dense\n",
    "from tensorflow.keras.layers import Bidirectional\n",
    "from tensorflow.keras.layers import Dropout"
   ]
  },
  {
   "cell_type": "markdown",
   "metadata": {},
   "source": [
    "# 2.Importing the cleaned dataset"
   ]
  },
  {
   "cell_type": "code",
   "execution_count": 3,
   "metadata": {},
   "outputs": [],
   "source": [
    "X=pd.read_csv('cleaned data fakenews')"
   ]
  },
  {
   "cell_type": "code",
   "execution_count": 4,
   "metadata": {},
   "outputs": [],
   "source": [
    "y=pd.read_csv('cleaned data fakenews(y)target')"
   ]
  },
  {
   "cell_type": "code",
   "execution_count": 5,
   "metadata": {},
   "outputs": [
    {
     "data": {
      "text/html": [
       "<div>\n",
       "<style scoped>\n",
       "    .dataframe tbody tr th:only-of-type {\n",
       "        vertical-align: middle;\n",
       "    }\n",
       "\n",
       "    .dataframe tbody tr th {\n",
       "        vertical-align: top;\n",
       "    }\n",
       "\n",
       "    .dataframe thead th {\n",
       "        text-align: right;\n",
       "    }\n",
       "</style>\n",
       "<table border=\"1\" class=\"dataframe\">\n",
       "  <thead>\n",
       "    <tr style=\"text-align: right;\">\n",
       "      <th></th>\n",
       "      <th>Unnamed: 0</th>\n",
       "      <th>0</th>\n",
       "      <th>1</th>\n",
       "      <th>2</th>\n",
       "      <th>3</th>\n",
       "      <th>4</th>\n",
       "      <th>5</th>\n",
       "      <th>6</th>\n",
       "      <th>7</th>\n",
       "      <th>8</th>\n",
       "      <th>...</th>\n",
       "      <th>210</th>\n",
       "      <th>211</th>\n",
       "      <th>212</th>\n",
       "      <th>213</th>\n",
       "      <th>214</th>\n",
       "      <th>215</th>\n",
       "      <th>216</th>\n",
       "      <th>217</th>\n",
       "      <th>218</th>\n",
       "      <th>219</th>\n",
       "    </tr>\n",
       "  </thead>\n",
       "  <tbody>\n",
       "    <tr>\n",
       "      <th>0</th>\n",
       "      <td>0</td>\n",
       "      <td>3225</td>\n",
       "      <td>3499</td>\n",
       "      <td>2464</td>\n",
       "      <td>4710</td>\n",
       "      <td>3526</td>\n",
       "      <td>1522</td>\n",
       "      <td>4710</td>\n",
       "      <td>4199</td>\n",
       "      <td>2704</td>\n",
       "      <td>...</td>\n",
       "      <td>530</td>\n",
       "      <td>2234</td>\n",
       "      <td>1634</td>\n",
       "      <td>2039</td>\n",
       "      <td>2920</td>\n",
       "      <td>3028</td>\n",
       "      <td>238</td>\n",
       "      <td>3840</td>\n",
       "      <td>4341</td>\n",
       "      <td>2122</td>\n",
       "    </tr>\n",
       "    <tr>\n",
       "      <th>1</th>\n",
       "      <td>1</td>\n",
       "      <td>3283</td>\n",
       "      <td>4537</td>\n",
       "      <td>3341</td>\n",
       "      <td>992</td>\n",
       "      <td>2912</td>\n",
       "      <td>3327</td>\n",
       "      <td>451</td>\n",
       "      <td>3630</td>\n",
       "      <td>2593</td>\n",
       "      <td>...</td>\n",
       "      <td>4861</td>\n",
       "      <td>3889</td>\n",
       "      <td>4035</td>\n",
       "      <td>2521</td>\n",
       "      <td>1977</td>\n",
       "      <td>1645</td>\n",
       "      <td>3347</td>\n",
       "      <td>2839</td>\n",
       "      <td>321</td>\n",
       "      <td>321</td>\n",
       "    </tr>\n",
       "    <tr>\n",
       "      <th>2</th>\n",
       "      <td>2</td>\n",
       "      <td>0</td>\n",
       "      <td>0</td>\n",
       "      <td>0</td>\n",
       "      <td>0</td>\n",
       "      <td>0</td>\n",
       "      <td>0</td>\n",
       "      <td>0</td>\n",
       "      <td>0</td>\n",
       "      <td>0</td>\n",
       "      <td>...</td>\n",
       "      <td>3593</td>\n",
       "      <td>1102</td>\n",
       "      <td>4453</td>\n",
       "      <td>4482</td>\n",
       "      <td>21</td>\n",
       "      <td>1373</td>\n",
       "      <td>4033</td>\n",
       "      <td>637</td>\n",
       "      <td>3749</td>\n",
       "      <td>4851</td>\n",
       "    </tr>\n",
       "    <tr>\n",
       "      <th>3</th>\n",
       "      <td>3</td>\n",
       "      <td>2415</td>\n",
       "      <td>2337</td>\n",
       "      <td>3667</td>\n",
       "      <td>2296</td>\n",
       "      <td>1081</td>\n",
       "      <td>3330</td>\n",
       "      <td>3630</td>\n",
       "      <td>3439</td>\n",
       "      <td>414</td>\n",
       "      <td>...</td>\n",
       "      <td>2978</td>\n",
       "      <td>3911</td>\n",
       "      <td>3689</td>\n",
       "      <td>3308</td>\n",
       "      <td>4710</td>\n",
       "      <td>2395</td>\n",
       "      <td>3623</td>\n",
       "      <td>2625</td>\n",
       "      <td>2608</td>\n",
       "      <td>4516</td>\n",
       "    </tr>\n",
       "    <tr>\n",
       "      <th>4</th>\n",
       "      <td>4</td>\n",
       "      <td>2435</td>\n",
       "      <td>2929</td>\n",
       "      <td>1021</td>\n",
       "      <td>1617</td>\n",
       "      <td>1204</td>\n",
       "      <td>3789</td>\n",
       "      <td>2669</td>\n",
       "      <td>4827</td>\n",
       "      <td>4927</td>\n",
       "      <td>...</td>\n",
       "      <td>2379</td>\n",
       "      <td>3430</td>\n",
       "      <td>3958</td>\n",
       "      <td>3689</td>\n",
       "      <td>3245</td>\n",
       "      <td>3583</td>\n",
       "      <td>4477</td>\n",
       "      <td>3459</td>\n",
       "      <td>2428</td>\n",
       "      <td>2741</td>\n",
       "    </tr>\n",
       "  </tbody>\n",
       "</table>\n",
       "<p>5 rows × 221 columns</p>\n",
       "</div>"
      ],
      "text/plain": [
       "   Unnamed: 0     0     1     2     3     4     5     6     7     8  ...  \\\n",
       "0           0  3225  3499  2464  4710  3526  1522  4710  4199  2704  ...   \n",
       "1           1  3283  4537  3341   992  2912  3327   451  3630  2593  ...   \n",
       "2           2     0     0     0     0     0     0     0     0     0  ...   \n",
       "3           3  2415  2337  3667  2296  1081  3330  3630  3439   414  ...   \n",
       "4           4  2435  2929  1021  1617  1204  3789  2669  4827  4927  ...   \n",
       "\n",
       "    210   211   212   213   214   215   216   217   218   219  \n",
       "0   530  2234  1634  2039  2920  3028   238  3840  4341  2122  \n",
       "1  4861  3889  4035  2521  1977  1645  3347  2839   321   321  \n",
       "2  3593  1102  4453  4482    21  1373  4033   637  3749  4851  \n",
       "3  2978  3911  3689  3308  4710  2395  3623  2625  2608  4516  \n",
       "4  2379  3430  3958  3689  3245  3583  4477  3459  2428  2741  \n",
       "\n",
       "[5 rows x 221 columns]"
      ]
     },
     "execution_count": 5,
     "metadata": {},
     "output_type": "execute_result"
    }
   ],
   "source": [
    "X.head()"
   ]
  },
  {
   "cell_type": "code",
   "execution_count": 6,
   "metadata": {},
   "outputs": [],
   "source": [
    "X=X.drop('Unnamed: 0',axis=1)"
   ]
  },
  {
   "cell_type": "code",
   "execution_count": 7,
   "metadata": {},
   "outputs": [
    {
     "data": {
      "text/html": [
       "<div>\n",
       "<style scoped>\n",
       "    .dataframe tbody tr th:only-of-type {\n",
       "        vertical-align: middle;\n",
       "    }\n",
       "\n",
       "    .dataframe tbody tr th {\n",
       "        vertical-align: top;\n",
       "    }\n",
       "\n",
       "    .dataframe thead th {\n",
       "        text-align: right;\n",
       "    }\n",
       "</style>\n",
       "<table border=\"1\" class=\"dataframe\">\n",
       "  <thead>\n",
       "    <tr style=\"text-align: right;\">\n",
       "      <th></th>\n",
       "      <th>0</th>\n",
       "      <th>1</th>\n",
       "      <th>2</th>\n",
       "      <th>3</th>\n",
       "      <th>4</th>\n",
       "      <th>5</th>\n",
       "      <th>6</th>\n",
       "      <th>7</th>\n",
       "      <th>8</th>\n",
       "      <th>9</th>\n",
       "      <th>...</th>\n",
       "      <th>210</th>\n",
       "      <th>211</th>\n",
       "      <th>212</th>\n",
       "      <th>213</th>\n",
       "      <th>214</th>\n",
       "      <th>215</th>\n",
       "      <th>216</th>\n",
       "      <th>217</th>\n",
       "      <th>218</th>\n",
       "      <th>219</th>\n",
       "    </tr>\n",
       "  </thead>\n",
       "  <tbody>\n",
       "    <tr>\n",
       "      <th>0</th>\n",
       "      <td>3225</td>\n",
       "      <td>3499</td>\n",
       "      <td>2464</td>\n",
       "      <td>4710</td>\n",
       "      <td>3526</td>\n",
       "      <td>1522</td>\n",
       "      <td>4710</td>\n",
       "      <td>4199</td>\n",
       "      <td>2704</td>\n",
       "      <td>3483</td>\n",
       "      <td>...</td>\n",
       "      <td>530</td>\n",
       "      <td>2234</td>\n",
       "      <td>1634</td>\n",
       "      <td>2039</td>\n",
       "      <td>2920</td>\n",
       "      <td>3028</td>\n",
       "      <td>238</td>\n",
       "      <td>3840</td>\n",
       "      <td>4341</td>\n",
       "      <td>2122</td>\n",
       "    </tr>\n",
       "    <tr>\n",
       "      <th>1</th>\n",
       "      <td>3283</td>\n",
       "      <td>4537</td>\n",
       "      <td>3341</td>\n",
       "      <td>992</td>\n",
       "      <td>2912</td>\n",
       "      <td>3327</td>\n",
       "      <td>451</td>\n",
       "      <td>3630</td>\n",
       "      <td>2593</td>\n",
       "      <td>2839</td>\n",
       "      <td>...</td>\n",
       "      <td>4861</td>\n",
       "      <td>3889</td>\n",
       "      <td>4035</td>\n",
       "      <td>2521</td>\n",
       "      <td>1977</td>\n",
       "      <td>1645</td>\n",
       "      <td>3347</td>\n",
       "      <td>2839</td>\n",
       "      <td>321</td>\n",
       "      <td>321</td>\n",
       "    </tr>\n",
       "    <tr>\n",
       "      <th>2</th>\n",
       "      <td>0</td>\n",
       "      <td>0</td>\n",
       "      <td>0</td>\n",
       "      <td>0</td>\n",
       "      <td>0</td>\n",
       "      <td>0</td>\n",
       "      <td>0</td>\n",
       "      <td>0</td>\n",
       "      <td>0</td>\n",
       "      <td>0</td>\n",
       "      <td>...</td>\n",
       "      <td>3593</td>\n",
       "      <td>1102</td>\n",
       "      <td>4453</td>\n",
       "      <td>4482</td>\n",
       "      <td>21</td>\n",
       "      <td>1373</td>\n",
       "      <td>4033</td>\n",
       "      <td>637</td>\n",
       "      <td>3749</td>\n",
       "      <td>4851</td>\n",
       "    </tr>\n",
       "    <tr>\n",
       "      <th>3</th>\n",
       "      <td>2415</td>\n",
       "      <td>2337</td>\n",
       "      <td>3667</td>\n",
       "      <td>2296</td>\n",
       "      <td>1081</td>\n",
       "      <td>3330</td>\n",
       "      <td>3630</td>\n",
       "      <td>3439</td>\n",
       "      <td>414</td>\n",
       "      <td>136</td>\n",
       "      <td>...</td>\n",
       "      <td>2978</td>\n",
       "      <td>3911</td>\n",
       "      <td>3689</td>\n",
       "      <td>3308</td>\n",
       "      <td>4710</td>\n",
       "      <td>2395</td>\n",
       "      <td>3623</td>\n",
       "      <td>2625</td>\n",
       "      <td>2608</td>\n",
       "      <td>4516</td>\n",
       "    </tr>\n",
       "    <tr>\n",
       "      <th>4</th>\n",
       "      <td>2435</td>\n",
       "      <td>2929</td>\n",
       "      <td>1021</td>\n",
       "      <td>1617</td>\n",
       "      <td>1204</td>\n",
       "      <td>3789</td>\n",
       "      <td>2669</td>\n",
       "      <td>4827</td>\n",
       "      <td>4927</td>\n",
       "      <td>3471</td>\n",
       "      <td>...</td>\n",
       "      <td>2379</td>\n",
       "      <td>3430</td>\n",
       "      <td>3958</td>\n",
       "      <td>3689</td>\n",
       "      <td>3245</td>\n",
       "      <td>3583</td>\n",
       "      <td>4477</td>\n",
       "      <td>3459</td>\n",
       "      <td>2428</td>\n",
       "      <td>2741</td>\n",
       "    </tr>\n",
       "  </tbody>\n",
       "</table>\n",
       "<p>5 rows × 220 columns</p>\n",
       "</div>"
      ],
      "text/plain": [
       "      0     1     2     3     4     5     6     7     8     9  ...   210  \\\n",
       "0  3225  3499  2464  4710  3526  1522  4710  4199  2704  3483  ...   530   \n",
       "1  3283  4537  3341   992  2912  3327   451  3630  2593  2839  ...  4861   \n",
       "2     0     0     0     0     0     0     0     0     0     0  ...  3593   \n",
       "3  2415  2337  3667  2296  1081  3330  3630  3439   414   136  ...  2978   \n",
       "4  2435  2929  1021  1617  1204  3789  2669  4827  4927  3471  ...  2379   \n",
       "\n",
       "    211   212   213   214   215   216   217   218   219  \n",
       "0  2234  1634  2039  2920  3028   238  3840  4341  2122  \n",
       "1  3889  4035  2521  1977  1645  3347  2839   321   321  \n",
       "2  1102  4453  4482    21  1373  4033   637  3749  4851  \n",
       "3  3911  3689  3308  4710  2395  3623  2625  2608  4516  \n",
       "4  3430  3958  3689  3245  3583  4477  3459  2428  2741  \n",
       "\n",
       "[5 rows x 220 columns]"
      ]
     },
     "execution_count": 7,
     "metadata": {},
     "output_type": "execute_result"
    }
   ],
   "source": [
    "X.head()"
   ]
  },
  {
   "cell_type": "code",
   "execution_count": 8,
   "metadata": {},
   "outputs": [
    {
     "data": {
      "text/html": [
       "<div>\n",
       "<style scoped>\n",
       "    .dataframe tbody tr th:only-of-type {\n",
       "        vertical-align: middle;\n",
       "    }\n",
       "\n",
       "    .dataframe tbody tr th {\n",
       "        vertical-align: top;\n",
       "    }\n",
       "\n",
       "    .dataframe thead th {\n",
       "        text-align: right;\n",
       "    }\n",
       "</style>\n",
       "<table border=\"1\" class=\"dataframe\">\n",
       "  <thead>\n",
       "    <tr style=\"text-align: right;\">\n",
       "      <th></th>\n",
       "      <th>Unnamed: 0</th>\n",
       "      <th>index</th>\n",
       "      <th>label</th>\n",
       "    </tr>\n",
       "  </thead>\n",
       "  <tbody>\n",
       "    <tr>\n",
       "      <th>0</th>\n",
       "      <td>0</td>\n",
       "      <td>0</td>\n",
       "      <td>0</td>\n",
       "    </tr>\n",
       "    <tr>\n",
       "      <th>1</th>\n",
       "      <td>1</td>\n",
       "      <td>1</td>\n",
       "      <td>0</td>\n",
       "    </tr>\n",
       "    <tr>\n",
       "      <th>2</th>\n",
       "      <td>2</td>\n",
       "      <td>2</td>\n",
       "      <td>0</td>\n",
       "    </tr>\n",
       "    <tr>\n",
       "      <th>3</th>\n",
       "      <td>3</td>\n",
       "      <td>3</td>\n",
       "      <td>0</td>\n",
       "    </tr>\n",
       "    <tr>\n",
       "      <th>4</th>\n",
       "      <td>4</td>\n",
       "      <td>4</td>\n",
       "      <td>1</td>\n",
       "    </tr>\n",
       "  </tbody>\n",
       "</table>\n",
       "</div>"
      ],
      "text/plain": [
       "   Unnamed: 0  index  label\n",
       "0           0      0      0\n",
       "1           1      1      0\n",
       "2           2      2      0\n",
       "3           3      3      0\n",
       "4           4      4      1"
      ]
     },
     "execution_count": 8,
     "metadata": {},
     "output_type": "execute_result"
    }
   ],
   "source": [
    "y.head()"
   ]
  },
  {
   "cell_type": "code",
   "execution_count": 9,
   "metadata": {},
   "outputs": [],
   "source": [
    "y=y.drop(['Unnamed: 0','index'],axis=1)"
   ]
  },
  {
   "cell_type": "code",
   "execution_count": 10,
   "metadata": {},
   "outputs": [
    {
     "data": {
      "text/html": [
       "<div>\n",
       "<style scoped>\n",
       "    .dataframe tbody tr th:only-of-type {\n",
       "        vertical-align: middle;\n",
       "    }\n",
       "\n",
       "    .dataframe tbody tr th {\n",
       "        vertical-align: top;\n",
       "    }\n",
       "\n",
       "    .dataframe thead th {\n",
       "        text-align: right;\n",
       "    }\n",
       "</style>\n",
       "<table border=\"1\" class=\"dataframe\">\n",
       "  <thead>\n",
       "    <tr style=\"text-align: right;\">\n",
       "      <th></th>\n",
       "      <th>label</th>\n",
       "    </tr>\n",
       "  </thead>\n",
       "  <tbody>\n",
       "    <tr>\n",
       "      <th>0</th>\n",
       "      <td>0</td>\n",
       "    </tr>\n",
       "    <tr>\n",
       "      <th>1</th>\n",
       "      <td>0</td>\n",
       "    </tr>\n",
       "    <tr>\n",
       "      <th>2</th>\n",
       "      <td>0</td>\n",
       "    </tr>\n",
       "    <tr>\n",
       "      <th>3</th>\n",
       "      <td>0</td>\n",
       "    </tr>\n",
       "    <tr>\n",
       "      <th>4</th>\n",
       "      <td>1</td>\n",
       "    </tr>\n",
       "  </tbody>\n",
       "</table>\n",
       "</div>"
      ],
      "text/plain": [
       "   label\n",
       "0      0\n",
       "1      0\n",
       "2      0\n",
       "3      0\n",
       "4      1"
      ]
     },
     "execution_count": 10,
     "metadata": {},
     "output_type": "execute_result"
    }
   ],
   "source": [
    "y.head()"
   ]
  },
  {
   "cell_type": "code",
   "execution_count": 11,
   "metadata": {},
   "outputs": [],
   "source": [
    "y=y[['label']]\n",
    "X=X"
   ]
  },
  {
   "cell_type": "code",
   "execution_count": 13,
   "metadata": {},
   "outputs": [
    {
     "data": {
      "text/html": [
       "<div>\n",
       "<style scoped>\n",
       "    .dataframe tbody tr th:only-of-type {\n",
       "        vertical-align: middle;\n",
       "    }\n",
       "\n",
       "    .dataframe tbody tr th {\n",
       "        vertical-align: top;\n",
       "    }\n",
       "\n",
       "    .dataframe thead th {\n",
       "        text-align: right;\n",
       "    }\n",
       "</style>\n",
       "<table border=\"1\" class=\"dataframe\">\n",
       "  <thead>\n",
       "    <tr style=\"text-align: right;\">\n",
       "      <th></th>\n",
       "      <th>0</th>\n",
       "      <th>1</th>\n",
       "      <th>2</th>\n",
       "      <th>3</th>\n",
       "      <th>4</th>\n",
       "      <th>5</th>\n",
       "      <th>6</th>\n",
       "      <th>7</th>\n",
       "      <th>8</th>\n",
       "      <th>9</th>\n",
       "      <th>...</th>\n",
       "      <th>210</th>\n",
       "      <th>211</th>\n",
       "      <th>212</th>\n",
       "      <th>213</th>\n",
       "      <th>214</th>\n",
       "      <th>215</th>\n",
       "      <th>216</th>\n",
       "      <th>217</th>\n",
       "      <th>218</th>\n",
       "      <th>219</th>\n",
       "    </tr>\n",
       "  </thead>\n",
       "  <tbody>\n",
       "    <tr>\n",
       "      <th>0</th>\n",
       "      <td>3225</td>\n",
       "      <td>3499</td>\n",
       "      <td>2464</td>\n",
       "      <td>4710</td>\n",
       "      <td>3526</td>\n",
       "      <td>1522</td>\n",
       "      <td>4710</td>\n",
       "      <td>4199</td>\n",
       "      <td>2704</td>\n",
       "      <td>3483</td>\n",
       "      <td>...</td>\n",
       "      <td>530</td>\n",
       "      <td>2234</td>\n",
       "      <td>1634</td>\n",
       "      <td>2039</td>\n",
       "      <td>2920</td>\n",
       "      <td>3028</td>\n",
       "      <td>238</td>\n",
       "      <td>3840</td>\n",
       "      <td>4341</td>\n",
       "      <td>2122</td>\n",
       "    </tr>\n",
       "    <tr>\n",
       "      <th>1</th>\n",
       "      <td>3283</td>\n",
       "      <td>4537</td>\n",
       "      <td>3341</td>\n",
       "      <td>992</td>\n",
       "      <td>2912</td>\n",
       "      <td>3327</td>\n",
       "      <td>451</td>\n",
       "      <td>3630</td>\n",
       "      <td>2593</td>\n",
       "      <td>2839</td>\n",
       "      <td>...</td>\n",
       "      <td>4861</td>\n",
       "      <td>3889</td>\n",
       "      <td>4035</td>\n",
       "      <td>2521</td>\n",
       "      <td>1977</td>\n",
       "      <td>1645</td>\n",
       "      <td>3347</td>\n",
       "      <td>2839</td>\n",
       "      <td>321</td>\n",
       "      <td>321</td>\n",
       "    </tr>\n",
       "    <tr>\n",
       "      <th>2</th>\n",
       "      <td>0</td>\n",
       "      <td>0</td>\n",
       "      <td>0</td>\n",
       "      <td>0</td>\n",
       "      <td>0</td>\n",
       "      <td>0</td>\n",
       "      <td>0</td>\n",
       "      <td>0</td>\n",
       "      <td>0</td>\n",
       "      <td>0</td>\n",
       "      <td>...</td>\n",
       "      <td>3593</td>\n",
       "      <td>1102</td>\n",
       "      <td>4453</td>\n",
       "      <td>4482</td>\n",
       "      <td>21</td>\n",
       "      <td>1373</td>\n",
       "      <td>4033</td>\n",
       "      <td>637</td>\n",
       "      <td>3749</td>\n",
       "      <td>4851</td>\n",
       "    </tr>\n",
       "    <tr>\n",
       "      <th>3</th>\n",
       "      <td>2415</td>\n",
       "      <td>2337</td>\n",
       "      <td>3667</td>\n",
       "      <td>2296</td>\n",
       "      <td>1081</td>\n",
       "      <td>3330</td>\n",
       "      <td>3630</td>\n",
       "      <td>3439</td>\n",
       "      <td>414</td>\n",
       "      <td>136</td>\n",
       "      <td>...</td>\n",
       "      <td>2978</td>\n",
       "      <td>3911</td>\n",
       "      <td>3689</td>\n",
       "      <td>3308</td>\n",
       "      <td>4710</td>\n",
       "      <td>2395</td>\n",
       "      <td>3623</td>\n",
       "      <td>2625</td>\n",
       "      <td>2608</td>\n",
       "      <td>4516</td>\n",
       "    </tr>\n",
       "    <tr>\n",
       "      <th>4</th>\n",
       "      <td>2435</td>\n",
       "      <td>2929</td>\n",
       "      <td>1021</td>\n",
       "      <td>1617</td>\n",
       "      <td>1204</td>\n",
       "      <td>3789</td>\n",
       "      <td>2669</td>\n",
       "      <td>4827</td>\n",
       "      <td>4927</td>\n",
       "      <td>3471</td>\n",
       "      <td>...</td>\n",
       "      <td>2379</td>\n",
       "      <td>3430</td>\n",
       "      <td>3958</td>\n",
       "      <td>3689</td>\n",
       "      <td>3245</td>\n",
       "      <td>3583</td>\n",
       "      <td>4477</td>\n",
       "      <td>3459</td>\n",
       "      <td>2428</td>\n",
       "      <td>2741</td>\n",
       "    </tr>\n",
       "  </tbody>\n",
       "</table>\n",
       "<p>5 rows × 220 columns</p>\n",
       "</div>"
      ],
      "text/plain": [
       "      0     1     2     3     4     5     6     7     8     9  ...   210  \\\n",
       "0  3225  3499  2464  4710  3526  1522  4710  4199  2704  3483  ...   530   \n",
       "1  3283  4537  3341   992  2912  3327   451  3630  2593  2839  ...  4861   \n",
       "2     0     0     0     0     0     0     0     0     0     0  ...  3593   \n",
       "3  2415  2337  3667  2296  1081  3330  3630  3439   414   136  ...  2978   \n",
       "4  2435  2929  1021  1617  1204  3789  2669  4827  4927  3471  ...  2379   \n",
       "\n",
       "    211   212   213   214   215   216   217   218   219  \n",
       "0  2234  1634  2039  2920  3028   238  3840  4341  2122  \n",
       "1  3889  4035  2521  1977  1645  3347  2839   321   321  \n",
       "2  1102  4453  4482    21  1373  4033   637  3749  4851  \n",
       "3  3911  3689  3308  4710  2395  3623  2625  2608  4516  \n",
       "4  3430  3958  3689  3245  3583  4477  3459  2428  2741  \n",
       "\n",
       "[5 rows x 220 columns]"
      ]
     },
     "execution_count": 13,
     "metadata": {},
     "output_type": "execute_result"
    }
   ],
   "source": [
    "X.head()"
   ]
  },
  {
   "cell_type": "code",
   "execution_count": 14,
   "metadata": {},
   "outputs": [
    {
     "data": {
      "text/html": [
       "<div>\n",
       "<style scoped>\n",
       "    .dataframe tbody tr th:only-of-type {\n",
       "        vertical-align: middle;\n",
       "    }\n",
       "\n",
       "    .dataframe tbody tr th {\n",
       "        vertical-align: top;\n",
       "    }\n",
       "\n",
       "    .dataframe thead th {\n",
       "        text-align: right;\n",
       "    }\n",
       "</style>\n",
       "<table border=\"1\" class=\"dataframe\">\n",
       "  <thead>\n",
       "    <tr style=\"text-align: right;\">\n",
       "      <th></th>\n",
       "      <th>label</th>\n",
       "    </tr>\n",
       "  </thead>\n",
       "  <tbody>\n",
       "    <tr>\n",
       "      <th>0</th>\n",
       "      <td>0</td>\n",
       "    </tr>\n",
       "    <tr>\n",
       "      <th>1</th>\n",
       "      <td>0</td>\n",
       "    </tr>\n",
       "    <tr>\n",
       "      <th>2</th>\n",
       "      <td>0</td>\n",
       "    </tr>\n",
       "    <tr>\n",
       "      <th>3</th>\n",
       "      <td>0</td>\n",
       "    </tr>\n",
       "    <tr>\n",
       "      <th>4</th>\n",
       "      <td>1</td>\n",
       "    </tr>\n",
       "  </tbody>\n",
       "</table>\n",
       "</div>"
      ],
      "text/plain": [
       "   label\n",
       "0      0\n",
       "1      0\n",
       "2      0\n",
       "3      0\n",
       "4      1"
      ]
     },
     "execution_count": 14,
     "metadata": {},
     "output_type": "execute_result"
    }
   ],
   "source": [
    "y.head()"
   ]
  },
  {
   "cell_type": "markdown",
   "metadata": {},
   "source": [
    "# Minmax scaler(standard scaler gives negative value which gives error in MultnomialNB)"
   ]
  },
  {
   "cell_type": "raw",
   "metadata": {},
   "source": [
    "from sklearn.preprocessing import StandardScaler\n",
    "ss=StandardScaler()\n",
    "X=ss.fit_transform(X)\n",
    "X=pd.DataFrame(data=X)"
   ]
  },
  {
   "cell_type": "raw",
   "metadata": {},
   "source": [
    "from sklearn.preprocessing import MinMaxScaler\n",
    "mm=MinMaxScaler()\n",
    "X=mm.fit_transform(X)\n",
    "X=pd.DataFrame(data=X)"
   ]
  },
  {
   "cell_type": "markdown",
   "metadata": {},
   "source": [
    "# Creating model with dropout layer for better performance of the model."
   ]
  },
  {
   "cell_type": "code",
   "execution_count": 15,
   "metadata": {},
   "outputs": [],
   "source": [
    "import tensorflow as tf\n",
    "from tensorflow.keras.layers import Embedding\n",
    "from tensorflow.keras.preprocessing.sequence import pad_sequences\n",
    "from tensorflow.keras.models import Sequential\n",
    "from tensorflow.keras.preprocessing.text import one_hot\n",
    "from tensorflow.keras.layers import LSTM\n",
    "from tensorflow.keras.layers import Dense\n",
    "from tensorflow.keras.layers import Bidirectional\n",
    "from tensorflow.keras.layers import Dropout"
   ]
  },
  {
   "cell_type": "code",
   "execution_count": 16,
   "metadata": {},
   "outputs": [
    {
     "name": "stdout",
     "output_type": "stream",
     "text": [
      "Model: \"sequential\"\n",
      "_________________________________________________________________\n",
      "Layer (type)                 Output Shape              Param #   \n",
      "=================================================================\n",
      "embedding (Embedding)        (None, 220, 40)           200000    \n",
      "_________________________________________________________________\n",
      "bidirectional (Bidirectional (None, 200)               112800    \n",
      "_________________________________________________________________\n",
      "dropout (Dropout)            (None, 200)               0         \n",
      "_________________________________________________________________\n",
      "dense (Dense)                (None, 1)                 201       \n",
      "=================================================================\n",
      "Total params: 313,001\n",
      "Trainable params: 313,001\n",
      "Non-trainable params: 0\n",
      "_________________________________________________________________\n",
      "None\n"
     ]
    }
   ],
   "source": [
    "voc_size=5000\n",
    "sent_length=220\n",
    "embedding_vector_features=40#For DL-NN model only.Not required for ML model\n",
    "\n",
    "model1=Sequential()#see word embedding video-39 & 40 ,Converting to required size mat\n",
    "model1.add(Embedding(voc_size,embedding_vector_features,input_length=sent_length))\n",
    "model1.add(Bidirectional(LSTM(100)))\n",
    "model1.add(Dropout(0.3))\n",
    "model1.add(Dense(1,activation='sigmoid'))\n",
    "model1.compile(loss='binary_crossentropy',optimizer='adam',metrics=['accuracy'])\n",
    "print(model1.summary())"
   ]
  },
  {
   "cell_type": "code",
   "execution_count": 17,
   "metadata": {},
   "outputs": [],
   "source": [
    "import numpy as np\n",
    "X_final=np.array(X)\n",
    "y_final=np.array(y['label'])"
   ]
  },
  {
   "cell_type": "code",
   "execution_count": 18,
   "metadata": {},
   "outputs": [
    {
     "data": {
      "text/plain": [
       "array([[3225, 3499, 2464, ..., 3840, 4341, 2122],\n",
       "       [3283, 4537, 3341, ..., 2839,  321,  321],\n",
       "       [   0,    0,    0, ...,  637, 3749, 4851],\n",
       "       ...,\n",
       "       [1790, 4566, 1455, ..., 4788, 1102,  553],\n",
       "       [4932, 3302, 2947, ...,  307, 3026, 1134],\n",
       "       [   0,    0,    0, ..., 4920,  636, 4659]], dtype=int64)"
      ]
     },
     "execution_count": 18,
     "metadata": {},
     "output_type": "execute_result"
    }
   ],
   "source": [
    "X_final"
   ]
  },
  {
   "cell_type": "code",
   "execution_count": 19,
   "metadata": {},
   "outputs": [
    {
     "data": {
      "text/plain": [
       "array([0, 0, 0, ..., 1, 0, 0], dtype=int64)"
      ]
     },
     "execution_count": 19,
     "metadata": {},
     "output_type": "execute_result"
    }
   ],
   "source": [
    "y_final"
   ]
  },
  {
   "cell_type": "markdown",
   "metadata": {},
   "source": [
    "# train_test_split"
   ]
  },
  {
   "cell_type": "code",
   "execution_count": 20,
   "metadata": {},
   "outputs": [],
   "source": [
    "from sklearn.model_selection import train_test_split\n",
    "                                                      \n",
    "X_train, X_test, y_train, y_test = train_test_split( X_final, y_final, test_size = 0.20, random_state = 0,stratify=y_final)"
   ]
  },
  {
   "cell_type": "code",
   "execution_count": 21,
   "metadata": {},
   "outputs": [
    {
     "data": {
      "text/plain": [
       "((14628, 220), (14628,))"
      ]
     },
     "execution_count": 21,
     "metadata": {},
     "output_type": "execute_result"
    }
   ],
   "source": [
    "X_train.shape, y_train.shape"
   ]
  },
  {
   "cell_type": "code",
   "execution_count": 22,
   "metadata": {},
   "outputs": [
    {
     "data": {
      "text/plain": [
       "((18285, 220), (18285,))"
      ]
     },
     "execution_count": 22,
     "metadata": {},
     "output_type": "execute_result"
    }
   ],
   "source": [
    "X_final.shape,y_final.shape"
   ]
  },
  {
   "cell_type": "markdown",
   "metadata": {},
   "source": [
    "# Model Training"
   ]
  },
  {
   "cell_type": "code",
   "execution_count": 23,
   "metadata": {},
   "outputs": [
    {
     "name": "stdout",
     "output_type": "stream",
     "text": [
      "Epoch 1/10\n",
      "229/229 [==============================] - 180s 785ms/step - loss: 0.3356 - accuracy: 0.8479 - val_loss: 0.2153 - val_accuracy: 0.9095\n",
      "Epoch 2/10\n",
      "229/229 [==============================] - 175s 765ms/step - loss: 0.1536 - accuracy: 0.9457 - val_loss: 0.2035 - val_accuracy: 0.9204\n",
      "Epoch 3/10\n",
      "229/229 [==============================] - 179s 784ms/step - loss: 0.1120 - accuracy: 0.9621 - val_loss: 0.2196 - val_accuracy: 0.9155\n",
      "Epoch 4/10\n",
      "229/229 [==============================] - 181s 790ms/step - loss: 0.0896 - accuracy: 0.9701 - val_loss: 0.2381 - val_accuracy: 0.9204\n",
      "Epoch 5/10\n",
      "229/229 [==============================] - 184s 804ms/step - loss: 0.0971 - accuracy: 0.9664 - val_loss: 0.2432 - val_accuracy: 0.9119\n",
      "Epoch 6/10\n",
      "229/229 [==============================] - 198s 866ms/step - loss: 0.0572 - accuracy: 0.9817 - val_loss: 0.2677 - val_accuracy: 0.9182\n",
      "Epoch 7/10\n",
      "229/229 [==============================] - 196s 857ms/step - loss: 0.0436 - accuracy: 0.9856 - val_loss: 0.3075 - val_accuracy: 0.9180\n",
      "Epoch 8/10\n",
      "229/229 [==============================] - 197s 860ms/step - loss: 0.0257 - accuracy: 0.9917 - val_loss: 0.3610 - val_accuracy: 0.9158\n",
      "Epoch 9/10\n",
      "229/229 [==============================] - 191s 834ms/step - loss: 0.0187 - accuracy: 0.9941 - val_loss: 0.3247 - val_accuracy: 0.9144\n",
      "Epoch 10/10\n",
      "229/229 [==============================] - 188s 822ms/step - loss: 0.0118 - accuracy: 0.9968 - val_loss: 0.4206 - val_accuracy: 0.9185\n"
     ]
    },
    {
     "data": {
      "text/plain": [
       "<tensorflow.python.keras.callbacks.History at 0x2be2c1c8670>"
      ]
     },
     "execution_count": 23,
     "metadata": {},
     "output_type": "execute_result"
    }
   ],
   "source": [
    "### Finally Training with model1(dropout layer added)\n",
    "model1.fit(X_train,y_train,validation_data=(X_test,y_test),epochs=10,batch_size=64)"
   ]
  },
  {
   "cell_type": "markdown",
   "metadata": {},
   "source": [
    "# Performance Metrics And Accuracy"
   ]
  },
  {
   "cell_type": "markdown",
   "metadata": {},
   "source": [
    "# Accuracy score"
   ]
  },
  {
   "cell_type": "code",
   "execution_count": 24,
   "metadata": {},
   "outputs": [
    {
     "name": "stdout",
     "output_type": "stream",
     "text": [
      "WARNING:tensorflow:From <ipython-input-24-ccbb315231b5>:1: Sequential.predict_classes (from tensorflow.python.keras.engine.sequential) is deprecated and will be removed after 2021-01-01.\n",
      "Instructions for updating:\n",
      "Please use instead:* `np.argmax(model.predict(x), axis=-1)`,   if your model does multi-class classification   (e.g. if it uses a `softmax` last-layer activation).* `(model.predict(x) > 0.5).astype(\"int32\")`,   if your model does binary classification   (e.g. if it uses a `sigmoid` last-layer activation).\n"
     ]
    }
   ],
   "source": [
    "y_pred1=model1.predict_classes(X_test)"
   ]
  },
  {
   "cell_type": "code",
   "execution_count": 25,
   "metadata": {},
   "outputs": [
    {
     "data": {
      "text/plain": [
       "0.9185124418922614"
      ]
     },
     "execution_count": 25,
     "metadata": {},
     "output_type": "execute_result"
    }
   ],
   "source": [
    "from sklearn.metrics import accuracy_score\n",
    "accuracy_score(y_test,y_pred1)"
   ]
  },
  {
   "cell_type": "markdown",
   "metadata": {},
   "source": [
    "# Classification report"
   ]
  },
  {
   "cell_type": "code",
   "execution_count": 29,
   "metadata": {},
   "outputs": [
    {
     "name": "stdout",
     "output_type": "stream",
     "text": [
      "              precision    recall  f1-score   support\n",
      "\n",
      "           0       0.92      0.94      0.93      2072\n",
      "           1       0.92      0.89      0.90      1585\n",
      "\n",
      "    accuracy                           0.92      3657\n",
      "   macro avg       0.92      0.92      0.92      3657\n",
      "weighted avg       0.92      0.92      0.92      3657\n",
      "\n"
     ]
    }
   ],
   "source": [
    "from sklearn.metrics import classification_report\n",
    "print(classification_report(y_test,y_pred1))"
   ]
  },
  {
   "cell_type": "markdown",
   "metadata": {},
   "source": [
    "# Confusion matrix visualizations"
   ]
  },
  {
   "cell_type": "code",
   "execution_count": 26,
   "metadata": {},
   "outputs": [],
   "source": [
    "from sklearn.metrics import confusion_matrix"
   ]
  },
  {
   "cell_type": "code",
   "execution_count": 28,
   "metadata": {},
   "outputs": [
    {
     "data": {
      "text/plain": [
       "array([[1945,  127],\n",
       "       [ 171, 1414]], dtype=int64)"
      ]
     },
     "execution_count": 28,
     "metadata": {},
     "output_type": "execute_result"
    }
   ],
   "source": [
    "confusion_matrix(y_test,y_pred1)"
   ]
  },
  {
   "cell_type": "code",
   "execution_count": 27,
   "metadata": {},
   "outputs": [
    {
     "data": {
      "image/png": "[encoded data removed]",
      "text/plain": [
       "<Figure size 432x288 with 2 Axes>"
      ]
     },
     "metadata": {
      "needs_background": "light"
     },
     "output_type": "display_data"
    }
   ],
   "source": [
    "# plot confusion matrix heatmap\n",
    "conf_mat = confusion_matrix(y_test,y_pred1)\n",
    "\n",
    "ax=plt.subplot()\n",
    "\n",
    "sns.heatmap(conf_mat,annot=True,ax=ax,linewidths=5,linecolor='r',center=0)\n",
    "\n",
    "ax.set_xlabel('Predicted Labels');ax.set_ylabel('True Labels')\n",
    "\n",
    "ax.set_title('Confusion matrix')\n",
    "ax.xaxis.set_ticklabels(['good','fake'])\n",
    "ax.yaxis.set_ticklabels(['good','fake'])\n",
    "plt.show()"
   ]
  },
  {
   "cell_type": "code",
   "execution_count": null,
   "metadata": {},
   "outputs": [],
   "source": []
  },
  {
   "cell_type": "code",
   "execution_count": null,
   "metadata": {},
   "outputs": [],
   "source": []
  },
  {
   "cell_type": "code",
   "execution_count": null,
   "metadata": {},
   "outputs": [],
   "source": []
  },
  {
   "cell_type": "code",
   "execution_count": null,
   "metadata": {},
   "outputs": [],
   "source": []
  },
  {
   "cell_type": "code",
   "execution_count": null,
   "metadata": {},
   "outputs": [],
   "source": []
  },
  {
   "cell_type": "code",
   "execution_count": null,
   "metadata": {},
   "outputs": [],
   "source": []
  },
  {
   "cell_type": "code",
   "execution_count": null,
   "metadata": {},
   "outputs": [],
   "source": []
  },
  {
   "cell_type": "code",
   "execution_count": null,
   "metadata": {},
   "outputs": [],
   "source": []
  }
 ],
 "metadata": {
  "kernelspec": {
   "display_name": "Python 3",
   "language": "python",
   "name": "python3"
  },
  "language_info": {
   "codemirror_mode": {
    "name": "ipython",
    "version": 3
   },
   "file_extension": ".py",
   "mimetype": "text/x-python",
   "name": "python",
   "nbconvert_exporter": "python",
   "pygments_lexer": "ipython3",
   "version": "3.8.3"
  }
 },
 "nbformat": 4,
 "nbformat_minor": 4
}
